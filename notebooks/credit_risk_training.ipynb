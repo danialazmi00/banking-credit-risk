# Credit Risk Scoring Training Notebook
import pandas as pd
from sklearn.model_selection import train_test_split
from sklearn.preprocessing import StandardScaler
from sklearn.ensemble import RandomForestClassifier
from sklearn.metrics import classification_report, roc_auc_score
import joblib

# Load dataset (German Credit from Kaggle/UCI)
df = pd.read_csv("../data/german_credit.csv")

# Target variable: Class (1 = Good, 2 = Bad) → make binary
df["target"] = (df["Class"] == 2).astype(int)

# Select features (adjust columns as per dataset schema)
num_cols = ["Duration", "Credit amount", "Age"]
cat_cols = ["Purpose", "Sex", "Housing"]

# One-hot encode categorical features
df = pd.get_dummies(df, columns=cat_cols, drop_first=True)

# Features & Target
X = df[num_cols + [c for c in df.columns if c.startswith(tuple(cat_cols))]]
y = df["target"]

# Train-test split
X_train, X_test, y_train, y_test = train_test_split(
    X, y, test_size=0.3, random_state=42
)

# Scale numeric features
scaler = StandardScaler()
X_train[num_cols] = scaler.fit_transform(X_train[num_cols])
X_test[num_cols] = scaler.transform(X_test[num_cols])

# Train model
model = RandomForestClassifier(random_state=42)
model.fit(X_train, y_train)

# Evaluate
y_pred = model.predict(X_test)
print("Classification Report:\n", classification_report(y_test, y_pred))
print("ROC-AUC:", roc_auc_score(y_test, model.predict_proba(X_test)[:, 1]))

# Save model & scaler
joblib.dump(model, "../model/credit_risk_model.pkl")
joblib.dump(scaler, "../model/credit_risk_scaler.pkl")
